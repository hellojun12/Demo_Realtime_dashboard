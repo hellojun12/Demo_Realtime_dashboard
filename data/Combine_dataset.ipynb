{
 "cells": [
  {
   "cell_type": "code",
   "execution_count": 1,
   "id": "58bc5c6a",
   "metadata": {},
   "outputs": [],
   "source": [
    "import os\n",
    "import pandas as pd\n",
    "import numpy as np"
   ]
  },
  {
   "cell_type": "code",
   "execution_count": 2,
   "id": "087c2432",
   "metadata": {},
   "outputs": [],
   "source": [
    "train_d = '/Users/junshickyoon/Workspace/Project/Demo_Realtime_dashboard/data/bog_data.csv'\n",
    "predict_d = '/Users/junshickyoon/Workspace/Project/Demo_Realtime_dashboard/data/train_post_process.csv'"
   ]
  },
  {
   "cell_type": "code",
   "execution_count": 3,
   "id": "43e7a306",
   "metadata": {},
   "outputs": [],
   "source": [
    "td = pd.read_csv(train_d)\n",
    "pdf = pd.read_csv(predict_d)"
   ]
  },
  {
   "cell_type": "code",
   "execution_count": 4,
   "id": "a38500d1",
   "metadata": {},
   "outputs": [],
   "source": [
    "td['TIME'] = td['TIME'].str.slice(stop=19)\n",
    "pdf = pdf.rename(columns = {'PIA205B-02A_MIN':'PMIN_PRED', 'PIA205B-02A_MAX':'PMAX_PRED'})"
   ]
  },
  {
   "cell_type": "code",
   "execution_count": 5,
   "id": "e2b6a959",
   "metadata": {},
   "outputs": [],
   "source": [
    "df= pd.merge(left=td, right=pdf, on='TIME', how='left')"
   ]
  },
  {
   "cell_type": "code",
   "execution_count": 7,
   "id": "0fb5a2b6",
   "metadata": {},
   "outputs": [],
   "source": [
    "df.to_csv('/Users/junshickyoon/Workspace/Project/Demo_Realtime_dashboard/data/data.csv')"
   ]
  }
 ],
 "metadata": {
  "kernelspec": {
   "display_name": "Python 3 (ipykernel)",
   "language": "python",
   "name": "python3"
  },
  "language_info": {
   "codemirror_mode": {
    "name": "ipython",
    "version": 3
   },
   "file_extension": ".py",
   "mimetype": "text/x-python",
   "name": "python",
   "nbconvert_exporter": "python",
   "pygments_lexer": "ipython3",
   "version": "3.9.7"
  }
 },
 "nbformat": 4,
 "nbformat_minor": 5
}
